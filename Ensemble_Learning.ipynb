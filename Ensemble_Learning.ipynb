{
 "cells": [
  {
   "cell_type": "markdown",
   "id": "e594a56b-01a1-4492-b448-63df5faaff60",
   "metadata": {},
   "source": [
    "# Earthquake Magnitude Prediction using Ensemble Learning\n"
   ]
  },
  {
   "cell_type": "markdown",
   "id": "e91358e1-b7f5-43fe-a0ee-3831d65d1893",
   "metadata": {},
   "source": [
    "* Ensemble learning is a machine learning method that combines the predictions of multiple models (classifiers or regressors) to improve overall predictive performance. \n",
    "* The basic idea behind ensemble learning is that by combining the output of several base models, the ensemble model can often achieve better results than any individual model.\n"
   ]
  },
  {
   "cell_type": "markdown",
   "id": "814e834a-502e-42e1-afe3-3f97ae30d590",
   "metadata": {},
   "source": [
    "# Import required modules\n",
    "\n",
    "Import statements provide the necessary tools to build, train, and evaluate your deep learning model for earthquake magnitude prediction"
   ]
  },
  {
   "cell_type": "code",
   "execution_count": 1,
   "id": "939ce925-9350-4d58-b455-5a85c4575ac2",
   "metadata": {},
   "outputs": [],
   "source": [
    "import numpy as np\n",
    "import pandas as pd\n",
    "from sklearn.ensemble import RandomForestRegressor, GradientBoostingRegressor, VotingRegressor, AdaBoostRegressor\n",
    "from sklearn.model_selection import train_test_split\n",
    "from sklearn.preprocessing import MinMaxScaler\n",
    "from sklearn.metrics import mean_squared_error\n",
    "from sklearn.svm import SVR\n",
    "from xgboost import XGBRegressor\n",
    "import lightgbm as lgbm\n",
    "from sklearn.linear_model import Lasso"
   ]
  },
  {
   "cell_type": "markdown",
   "id": "351b3e0e-03b6-46e4-9a4f-9756df74332f",
   "metadata": {},
   "source": [
    "# Data Loading and Preprocessing\n",
    "\n",
    "The code loads your earthquake data from a CSV file named 'resultdata.csv' using pd.read_csv."
   ]
  },
  {
   "cell_type": "code",
   "execution_count": 2,
   "id": "3a39678c-c052-4f51-b177-75e4ccb1de08",
   "metadata": {},
   "outputs": [],
   "source": [
    "# Load your earthquake data (replace 'your_data.csv' with your dataset)\n",
    "data = pd.read_csv('resultdata.csv')"
   ]
  },
  {
   "cell_type": "markdown",
   "id": "43523476-0104-4ca8-a8e2-693fc508d2d2",
   "metadata": {},
   "source": [
    "# Feature Extraction:\n",
    "\n",
    "* It extracts features from the dataset, which include 'Longitude', 'Latitude', 'Depth', and 'Timestamp'. These features are stored in the features array.\n",
    "* The target variable, 'Magnitude', is stored in the labels array.\n"
   ]
  },
  {
   "cell_type": "code",
   "execution_count": 3,
   "id": "536ca886-357b-4a63-8be0-f071cb303f22",
   "metadata": {},
   "outputs": [],
   "source": [
    "# Assuming your dataset has columns 'longitude', 'latitude', and 'magnitude'\n",
    "# Adjust this accordingly based on your actual data columns\n",
    "features = data[['Latitude', 'Longitude','Depth','Timestamp']].values\n",
    "labels = data['Magnitude'].values"
   ]
  },
  {
   "cell_type": "markdown",
   "id": "7b721dee-2a26-425b-9973-ed50325bd91f",
   "metadata": {},
   "source": [
    "# Normalization:\n",
    "\n",
    "The longitude and latitude features are normalized to a range between 0 and 1 using the MinMaxScaler from scikit-learn. This scaling helps neural networks perform better."
   ]
  },
  {
   "cell_type": "code",
   "execution_count": 4,
   "id": "7bef77a4-1938-4dbf-9f48-cfe3cb3e2fbb",
   "metadata": {},
   "outputs": [],
   "source": [
    "# Normalize longitude and latitude features to a range between 0 and 1\n",
    "scaler = MinMaxScaler()\n",
    "scaled_features = scaler.fit_transform(features)"
   ]
  },
  {
   "cell_type": "markdown",
   "id": "5293c3c7-385a-4369-a798-09ea76f43158",
   "metadata": {},
   "source": [
    "# Train-Test Split:\n",
    "The dataset is split into training and testing sets using train_test_split from scikit-learn. The split ratio is 80% for training and 20% for testing"
   ]
  },
  {
   "cell_type": "code",
   "execution_count": 5,
   "id": "8b7469ee-1ad4-4de4-bab6-f5453e9c4c08",
   "metadata": {},
   "outputs": [],
   "source": [
    "# Split the data into training and testing sets\n",
    "X_train, X_test, y_train, y_test = train_test_split(scaled_features, labels, test_size=0.2, random_state=42)"
   ]
  },
  {
   "cell_type": "markdown",
   "id": "d910c861-1f5d-45db-8f78-eabbb03d1dc8",
   "metadata": {},
   "source": [
    "# Base Models:\n",
    "\n",
    "* RandomForestRegressor: Ensemble of 100 decision trees for earthquake magnitude prediction. random_state=42 ensures consistent results.\n",
    "* GradientBoostingRegressor: Utilizes 100 decision trees to refine magnitude predictions iteratively. random_state=42 for reproducible results.\n",
    "* Support Vector Regressor (SVR): Predicts magnitudes using support vector machines with an RBF kernel. C=1.0, epsilon=0.2 control error and tube width.\n",
    "* XGBoostRegressor: Efficiently combines 100 trees for magnitude prediction. random_state=42 ensures consistent outcomes.\n",
    "* AdaBoostRegressor: Combines 100 weak learners for more accurate predictions. random_state=42 for result reproducibility.\n",
    "* LightGBMRegressor: Speedy gradient boosting with 100 trees for magnitude estimation. random_state=42 for reproducibility.\n",
    "* Lasso Regression: L1-regularized linear regression for magnitude prediction. alpha=0.1 controls model complexity and feature selection.\n"
   ]
  },
  {
   "cell_type": "code",
   "execution_count": 6,
   "id": "dbb282f7-7794-4fe2-ba60-a1a32147c178",
   "metadata": {},
   "outputs": [],
   "source": [
    "# Define the Base model\n",
    "rf_regressor = RandomForestRegressor(n_estimators=100, random_state=42)\n",
    "gb_regressor = GradientBoostingRegressor(n_estimators=100, random_state=42)\n",
    "svr_regressor = SVR(kernel='rbf', C=1.0, epsilon=0.2)\n",
    "xgb_regressor = XGBRegressor(n_estimators=100, random_state=42)\n",
    "ada_regressor = AdaBoostRegressor(n_estimators=100, random_state=42)\n",
    "lgbm_regressor = lgbm.LGBMRegressor(n_estimators=100, random_state=42)\n",
    "lasso_regressor = Lasso(alpha=0.1)"
   ]
  },
  {
   "cell_type": "markdown",
   "id": "c3ff46a3-7dde-49a3-adfa-333ab43453e5",
   "metadata": {},
   "source": [
    "# Ensemble Model:\n",
    "\n",
    "* An ensemble model is created using the VotingRegressor from scikit-learn. This ensemble model combines the predictions of the previously defined individual regressors.\n",
    "* Each individual regressor is provided a name and is included in the ensemble.\n",
    "* The VotingRegressor combines the predictions through a weighted average."
   ]
  },
  {
   "cell_type": "code",
   "execution_count": 7,
   "id": "6b5b317b",
   "metadata": {},
   "outputs": [],
   "source": [
    "# Define the Ensemble model\n",
    "ensemble_regressor = VotingRegressor(estimators=[\n",
    "    ('random_forest', rf_regressor),\n",
    "    ('gradient_boosting', gb_regressor),\n",
    "    ('svr', svr_regressor),\n",
    "    ('xgboost', xgb_regressor),\n",
    "    ('adaboost', ada_regressor),\n",
    "    ('lightgbm', lgbm_regressor),\n",
    "    ('lasso', lasso_regressor)\n",
    "])"
   ]
  },
  {
   "cell_type": "markdown",
   "id": "3c805d3f-d6ee-480f-bdf1-0c73f558d210",
   "metadata": {},
   "source": [
    "# Model Training:\n",
    "\n",
    "The ensemble model is trained on the training data using the fit method."
   ]
  },
  {
   "cell_type": "code",
   "execution_count": 8,
   "id": "224ee12d-223a-4853-bb13-afcf4621b648",
   "metadata": {},
   "outputs": [
    {
     "name": "stdout",
     "output_type": "stream",
     "text": [
      "[LightGBM] [Info] Auto-choosing col-wise multi-threading, the overhead of testing was 0.001153 seconds.\n",
      "You can set `force_col_wise=true` to remove the overhead.\n",
      "[LightGBM] [Info] Total Bins 1020\n",
      "[LightGBM] [Info] Number of data points in the train set: 17563, number of used features: 4\n",
      "[LightGBM] [Info] Start training from score 5.869838\n"
     ]
    },
    {
     "data": {
      "text/html": [
       "<style>#sk-container-id-1 {color: black;background-color: white;}#sk-container-id-1 pre{padding: 0;}#sk-container-id-1 div.sk-toggleable {background-color: white;}#sk-container-id-1 label.sk-toggleable__label {cursor: pointer;display: block;width: 100%;margin-bottom: 0;padding: 0.3em;box-sizing: border-box;text-align: center;}#sk-container-id-1 label.sk-toggleable__label-arrow:before {content: \"▸\";float: left;margin-right: 0.25em;color: #696969;}#sk-container-id-1 label.sk-toggleable__label-arrow:hover:before {color: black;}#sk-container-id-1 div.sk-estimator:hover label.sk-toggleable__label-arrow:before {color: black;}#sk-container-id-1 div.sk-toggleable__content {max-height: 0;max-width: 0;overflow: hidden;text-align: left;background-color: #f0f8ff;}#sk-container-id-1 div.sk-toggleable__content pre {margin: 0.2em;color: black;border-radius: 0.25em;background-color: #f0f8ff;}#sk-container-id-1 input.sk-toggleable__control:checked~div.sk-toggleable__content {max-height: 200px;max-width: 100%;overflow: auto;}#sk-container-id-1 input.sk-toggleable__control:checked~label.sk-toggleable__label-arrow:before {content: \"▾\";}#sk-container-id-1 div.sk-estimator input.sk-toggleable__control:checked~label.sk-toggleable__label {background-color: #d4ebff;}#sk-container-id-1 div.sk-label input.sk-toggleable__control:checked~label.sk-toggleable__label {background-color: #d4ebff;}#sk-container-id-1 input.sk-hidden--visually {border: 0;clip: rect(1px 1px 1px 1px);clip: rect(1px, 1px, 1px, 1px);height: 1px;margin: -1px;overflow: hidden;padding: 0;position: absolute;width: 1px;}#sk-container-id-1 div.sk-estimator {font-family: monospace;background-color: #f0f8ff;border: 1px dotted black;border-radius: 0.25em;box-sizing: border-box;margin-bottom: 0.5em;}#sk-container-id-1 div.sk-estimator:hover {background-color: #d4ebff;}#sk-container-id-1 div.sk-parallel-item::after {content: \"\";width: 100%;border-bottom: 1px solid gray;flex-grow: 1;}#sk-container-id-1 div.sk-label:hover label.sk-toggleable__label {background-color: #d4ebff;}#sk-container-id-1 div.sk-serial::before {content: \"\";position: absolute;border-left: 1px solid gray;box-sizing: border-box;top: 0;bottom: 0;left: 50%;z-index: 0;}#sk-container-id-1 div.sk-serial {display: flex;flex-direction: column;align-items: center;background-color: white;padding-right: 0.2em;padding-left: 0.2em;position: relative;}#sk-container-id-1 div.sk-item {position: relative;z-index: 1;}#sk-container-id-1 div.sk-parallel {display: flex;align-items: stretch;justify-content: center;background-color: white;position: relative;}#sk-container-id-1 div.sk-item::before, #sk-container-id-1 div.sk-parallel-item::before {content: \"\";position: absolute;border-left: 1px solid gray;box-sizing: border-box;top: 0;bottom: 0;left: 50%;z-index: -1;}#sk-container-id-1 div.sk-parallel-item {display: flex;flex-direction: column;z-index: 1;position: relative;background-color: white;}#sk-container-id-1 div.sk-parallel-item:first-child::after {align-self: flex-end;width: 50%;}#sk-container-id-1 div.sk-parallel-item:last-child::after {align-self: flex-start;width: 50%;}#sk-container-id-1 div.sk-parallel-item:only-child::after {width: 0;}#sk-container-id-1 div.sk-dashed-wrapped {border: 1px dashed gray;margin: 0 0.4em 0.5em 0.4em;box-sizing: border-box;padding-bottom: 0.4em;background-color: white;}#sk-container-id-1 div.sk-label label {font-family: monospace;font-weight: bold;display: inline-block;line-height: 1.2em;}#sk-container-id-1 div.sk-label-container {text-align: center;}#sk-container-id-1 div.sk-container {/* jupyter's `normalize.less` sets `[hidden] { display: none; }` but bootstrap.min.css set `[hidden] { display: none !important; }` so we also need the `!important` here to be able to override the default hidden behavior on the sphinx rendered scikit-learn.org. See: https://github.com/scikit-learn/scikit-learn/issues/21755 */display: inline-block !important;position: relative;}#sk-container-id-1 div.sk-text-repr-fallback {display: none;}</style><div id=\"sk-container-id-1\" class=\"sk-top-container\"><div class=\"sk-text-repr-fallback\"><pre>VotingRegressor(estimators=[(&#x27;random_forest&#x27;,\n",
       "                             RandomForestRegressor(random_state=42)),\n",
       "                            (&#x27;gradient_boosting&#x27;,\n",
       "                             GradientBoostingRegressor(random_state=42)),\n",
       "                            (&#x27;svr&#x27;, SVR(epsilon=0.2)),\n",
       "                            (&#x27;xgboost&#x27;,\n",
       "                             XGBRegressor(base_score=None, booster=None,\n",
       "                                          callbacks=None,\n",
       "                                          colsample_bylevel=None,\n",
       "                                          colsample_bynode=None,\n",
       "                                          colsample_bytree=None, device=None,\n",
       "                                          early_stopping_rounds=None,\n",
       "                                          e...\n",
       "                                          max_cat_to_onehot=None,\n",
       "                                          max_delta_step=None, max_depth=None,\n",
       "                                          max_leaves=None,\n",
       "                                          min_child_weight=None, missing=nan,\n",
       "                                          monotone_constraints=None,\n",
       "                                          multi_strategy=None, n_estimators=100,\n",
       "                                          n_jobs=None, num_parallel_tree=None,\n",
       "                                          random_state=42, ...)),\n",
       "                            (&#x27;adaboost&#x27;,\n",
       "                             AdaBoostRegressor(n_estimators=100,\n",
       "                                               random_state=42)),\n",
       "                            (&#x27;lightgbm&#x27;, LGBMRegressor(random_state=42)),\n",
       "                            (&#x27;lasso&#x27;, Lasso(alpha=0.1))])</pre><b>In a Jupyter environment, please rerun this cell to show the HTML representation or trust the notebook. <br />On GitHub, the HTML representation is unable to render, please try loading this page with nbviewer.org.</b></div><div class=\"sk-container\" hidden><div class=\"sk-item sk-dashed-wrapped\"><div class=\"sk-label-container\"><div class=\"sk-label sk-toggleable\"><input class=\"sk-toggleable__control sk-hidden--visually\" id=\"sk-estimator-id-1\" type=\"checkbox\" ><label for=\"sk-estimator-id-1\" class=\"sk-toggleable__label sk-toggleable__label-arrow\">VotingRegressor</label><div class=\"sk-toggleable__content\"><pre>VotingRegressor(estimators=[(&#x27;random_forest&#x27;,\n",
       "                             RandomForestRegressor(random_state=42)),\n",
       "                            (&#x27;gradient_boosting&#x27;,\n",
       "                             GradientBoostingRegressor(random_state=42)),\n",
       "                            (&#x27;svr&#x27;, SVR(epsilon=0.2)),\n",
       "                            (&#x27;xgboost&#x27;,\n",
       "                             XGBRegressor(base_score=None, booster=None,\n",
       "                                          callbacks=None,\n",
       "                                          colsample_bylevel=None,\n",
       "                                          colsample_bynode=None,\n",
       "                                          colsample_bytree=None, device=None,\n",
       "                                          early_stopping_rounds=None,\n",
       "                                          e...\n",
       "                                          max_cat_to_onehot=None,\n",
       "                                          max_delta_step=None, max_depth=None,\n",
       "                                          max_leaves=None,\n",
       "                                          min_child_weight=None, missing=nan,\n",
       "                                          monotone_constraints=None,\n",
       "                                          multi_strategy=None, n_estimators=100,\n",
       "                                          n_jobs=None, num_parallel_tree=None,\n",
       "                                          random_state=42, ...)),\n",
       "                            (&#x27;adaboost&#x27;,\n",
       "                             AdaBoostRegressor(n_estimators=100,\n",
       "                                               random_state=42)),\n",
       "                            (&#x27;lightgbm&#x27;, LGBMRegressor(random_state=42)),\n",
       "                            (&#x27;lasso&#x27;, Lasso(alpha=0.1))])</pre></div></div></div><div class=\"sk-parallel\"><div class=\"sk-parallel-item\"><div class=\"sk-item\"><div class=\"sk-label-container\"><div class=\"sk-label sk-toggleable\"><label>random_forest</label></div></div><div class=\"sk-serial\"><div class=\"sk-item\"><div class=\"sk-estimator sk-toggleable\"><input class=\"sk-toggleable__control sk-hidden--visually\" id=\"sk-estimator-id-2\" type=\"checkbox\" ><label for=\"sk-estimator-id-2\" class=\"sk-toggleable__label sk-toggleable__label-arrow\">RandomForestRegressor</label><div class=\"sk-toggleable__content\"><pre>RandomForestRegressor(random_state=42)</pre></div></div></div></div></div></div><div class=\"sk-parallel-item\"><div class=\"sk-item\"><div class=\"sk-label-container\"><div class=\"sk-label sk-toggleable\"><label>gradient_boosting</label></div></div><div class=\"sk-serial\"><div class=\"sk-item\"><div class=\"sk-estimator sk-toggleable\"><input class=\"sk-toggleable__control sk-hidden--visually\" id=\"sk-estimator-id-3\" type=\"checkbox\" ><label for=\"sk-estimator-id-3\" class=\"sk-toggleable__label sk-toggleable__label-arrow\">GradientBoostingRegressor</label><div class=\"sk-toggleable__content\"><pre>GradientBoostingRegressor(random_state=42)</pre></div></div></div></div></div></div><div class=\"sk-parallel-item\"><div class=\"sk-item\"><div class=\"sk-label-container\"><div class=\"sk-label sk-toggleable\"><label>svr</label></div></div><div class=\"sk-serial\"><div class=\"sk-item\"><div class=\"sk-estimator sk-toggleable\"><input class=\"sk-toggleable__control sk-hidden--visually\" id=\"sk-estimator-id-4\" type=\"checkbox\" ><label for=\"sk-estimator-id-4\" class=\"sk-toggleable__label sk-toggleable__label-arrow\">SVR</label><div class=\"sk-toggleable__content\"><pre>SVR(epsilon=0.2)</pre></div></div></div></div></div></div><div class=\"sk-parallel-item\"><div class=\"sk-item\"><div class=\"sk-label-container\"><div class=\"sk-label sk-toggleable\"><label>xgboost</label></div></div><div class=\"sk-serial\"><div class=\"sk-item\"><div class=\"sk-estimator sk-toggleable\"><input class=\"sk-toggleable__control sk-hidden--visually\" id=\"sk-estimator-id-5\" type=\"checkbox\" ><label for=\"sk-estimator-id-5\" class=\"sk-toggleable__label sk-toggleable__label-arrow\">XGBRegressor</label><div class=\"sk-toggleable__content\"><pre>XGBRegressor(base_score=None, booster=None, callbacks=None,\n",
       "             colsample_bylevel=None, colsample_bynode=None,\n",
       "             colsample_bytree=None, device=None, early_stopping_rounds=None,\n",
       "             enable_categorical=False, eval_metric=None, feature_types=None,\n",
       "             gamma=None, grow_policy=None, importance_type=None,\n",
       "             interaction_constraints=None, learning_rate=None, max_bin=None,\n",
       "             max_cat_threshold=None, max_cat_to_onehot=None,\n",
       "             max_delta_step=None, max_depth=None, max_leaves=None,\n",
       "             min_child_weight=None, missing=nan, monotone_constraints=None,\n",
       "             multi_strategy=None, n_estimators=100, n_jobs=None,\n",
       "             num_parallel_tree=None, random_state=42, ...)</pre></div></div></div></div></div></div><div class=\"sk-parallel-item\"><div class=\"sk-item\"><div class=\"sk-label-container\"><div class=\"sk-label sk-toggleable\"><label>adaboost</label></div></div><div class=\"sk-serial\"><div class=\"sk-item\"><div class=\"sk-estimator sk-toggleable\"><input class=\"sk-toggleable__control sk-hidden--visually\" id=\"sk-estimator-id-6\" type=\"checkbox\" ><label for=\"sk-estimator-id-6\" class=\"sk-toggleable__label sk-toggleable__label-arrow\">AdaBoostRegressor</label><div class=\"sk-toggleable__content\"><pre>AdaBoostRegressor(n_estimators=100, random_state=42)</pre></div></div></div></div></div></div><div class=\"sk-parallel-item\"><div class=\"sk-item\"><div class=\"sk-label-container\"><div class=\"sk-label sk-toggleable\"><label>lightgbm</label></div></div><div class=\"sk-serial\"><div class=\"sk-item\"><div class=\"sk-estimator sk-toggleable\"><input class=\"sk-toggleable__control sk-hidden--visually\" id=\"sk-estimator-id-7\" type=\"checkbox\" ><label for=\"sk-estimator-id-7\" class=\"sk-toggleable__label sk-toggleable__label-arrow\">LGBMRegressor</label><div class=\"sk-toggleable__content\"><pre>LGBMRegressor(random_state=42)</pre></div></div></div></div></div></div><div class=\"sk-parallel-item\"><div class=\"sk-item\"><div class=\"sk-label-container\"><div class=\"sk-label sk-toggleable\"><label>lasso</label></div></div><div class=\"sk-serial\"><div class=\"sk-item\"><div class=\"sk-estimator sk-toggleable\"><input class=\"sk-toggleable__control sk-hidden--visually\" id=\"sk-estimator-id-8\" type=\"checkbox\" ><label for=\"sk-estimator-id-8\" class=\"sk-toggleable__label sk-toggleable__label-arrow\">Lasso</label><div class=\"sk-toggleable__content\"><pre>Lasso(alpha=0.1)</pre></div></div></div></div></div></div></div></div></div></div>"
      ],
      "text/plain": [
       "VotingRegressor(estimators=[('random_forest',\n",
       "                             RandomForestRegressor(random_state=42)),\n",
       "                            ('gradient_boosting',\n",
       "                             GradientBoostingRegressor(random_state=42)),\n",
       "                            ('svr', SVR(epsilon=0.2)),\n",
       "                            ('xgboost',\n",
       "                             XGBRegressor(base_score=None, booster=None,\n",
       "                                          callbacks=None,\n",
       "                                          colsample_bylevel=None,\n",
       "                                          colsample_bynode=None,\n",
       "                                          colsample_bytree=None, device=None,\n",
       "                                          early_stopping_rounds=None,\n",
       "                                          e...\n",
       "                                          max_cat_to_onehot=None,\n",
       "                                          max_delta_step=None, max_depth=None,\n",
       "                                          max_leaves=None,\n",
       "                                          min_child_weight=None, missing=nan,\n",
       "                                          monotone_constraints=None,\n",
       "                                          multi_strategy=None, n_estimators=100,\n",
       "                                          n_jobs=None, num_parallel_tree=None,\n",
       "                                          random_state=42, ...)),\n",
       "                            ('adaboost',\n",
       "                             AdaBoostRegressor(n_estimators=100,\n",
       "                                               random_state=42)),\n",
       "                            ('lightgbm', LGBMRegressor(random_state=42)),\n",
       "                            ('lasso', Lasso(alpha=0.1))])"
      ]
     },
     "execution_count": 8,
     "metadata": {},
     "output_type": "execute_result"
    }
   ],
   "source": [
    "ensemble_regressor.fit(X_train, y_train)"
   ]
  },
  {
   "cell_type": "markdown",
   "id": "9c20b07d-e480-4cc5-b642-64b80f877577",
   "metadata": {},
   "source": [
    "# Making Predictions:\n",
    "\n",
    "* The model is used to make predictions on the test data, and the predicted earthquake magnitudes are stored in the predictions array."
   ]
  },
  {
   "cell_type": "code",
   "execution_count": 9,
   "id": "29c95d7c-c0af-4347-9503-24c8d2fbe2bb",
   "metadata": {},
   "outputs": [],
   "source": [
    "# Make predictions using the ensemble model\n",
    "y_pred = ensemble_regressor.predict(X_test)"
   ]
  },
  {
   "cell_type": "markdown",
   "id": "b24b1245-428f-4865-b015-959f34eabb1a",
   "metadata": {},
   "source": [
    "# Model Evaluation:\n",
    "\n",
    "* The Mean Squared Error (MSE) is calculated to evaluate the performance of the ensemble model. \n",
    "* MSE is a common metric used to measure the accuracy of regression models.\n"
   ]
  },
  {
   "cell_type": "code",
   "execution_count": 10,
   "id": "08d8880c-1b9f-49ef-b2f9-43a8a4fdc782",
   "metadata": {},
   "outputs": [
    {
     "name": "stdout",
     "output_type": "stream",
     "text": [
      "Mean Squared Error: 0.1704475585642093\n"
     ]
    }
   ],
   "source": [
    "# Calculate Mean Squared Error as a metric\n",
    "mse = mean_squared_error(y_test, y_pred)\n",
    "print(f\"Mean Squared Error: {mse}\")"
   ]
  },
  {
   "cell_type": "code",
   "execution_count": null,
   "id": "fe7c1386-f714-4375-a55e-8b32bd4aef77",
   "metadata": {},
   "outputs": [],
   "source": []
  }
 ],
 "metadata": {
  "kernelspec": {
   "display_name": "Python 3 (ipykernel)",
   "language": "python",
   "name": "python3"
  },
  "language_info": {
   "codemirror_mode": {
    "name": "ipython",
    "version": 3
   },
   "file_extension": ".py",
   "mimetype": "text/x-python",
   "name": "python",
   "nbconvert_exporter": "python",
   "pygments_lexer": "ipython3",
   "version": "3.10.9"
  }
 },
 "nbformat": 4,
 "nbformat_minor": 5
}
